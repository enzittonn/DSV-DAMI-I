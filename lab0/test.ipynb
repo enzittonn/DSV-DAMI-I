{
 "metadata": {
  "language_info": {
   "codemirror_mode": {
    "name": "ipython",
    "version": 3
   },
   "file_extension": ".py",
   "mimetype": "text/x-python",
   "name": "python",
   "nbconvert_exporter": "python",
   "pygments_lexer": "ipython3",
   "version": "3.7.6-final"
  },
  "orig_nbformat": 2,
  "kernelspec": {
   "name": "python37664bitbasecondabc97f5d9b1e24aac9502f7921f5bb26f",
   "display_name": "Python 3.7.6 64-bit ('base': conda)"
  }
 },
 "nbformat": 4,
 "nbformat_minor": 2,
 "cells": [
  {
   "cell_type": "code",
   "execution_count": 4,
   "metadata": {
    "tags": []
   },
   "outputs": [],
   "source": [
    "import numpy as np"
   ]
  },
  {
   "cell_type": "code",
   "execution_count": 11,
   "metadata": {},
   "outputs": [
    {
     "output_type": "execute_result",
     "data": {
      "text/plain": "{}"
     },
     "metadata": {},
     "execution_count": 11
    }
   ],
   "source": [
    "{}"
   ]
  },
  {
   "cell_type": "code",
   "execution_count": 12,
   "metadata": {},
   "outputs": [],
   "source": [
    "np.random.seed(12345)"
   ]
  },
  {
   "cell_type": "code",
   "execution_count": 13,
   "metadata": {},
   "outputs": [
    {
     "output_type": "execute_result",
     "data": {
      "text/plain": "array([[98, 29,  1, 36, 41],\n       [34, 29,  1, 59, 14],\n       [91, 80, 73, 11, 77],\n       [10, 81, 82, 38,  7],\n       [43, 23, 29, 56, 55],\n       [31, 61, 97, 91, 87],\n       [36, 64,  3,  5, 15],\n       [75, 14, 81,  5, 34],\n       [53, 72,  5, 98,  5],\n       [59, 83, 12, 14, 80]])"
     },
     "metadata": {},
     "execution_count": 13
    }
   ],
   "source": [
    "array_in_2d = np.random.randint(0, 100, size=(10,5))\n",
    "array_in_2d"
   ]
  },
  {
   "cell_type": "code",
   "execution_count": 14,
   "metadata": {},
   "outputs": [
    {
     "output_type": "execute_result",
     "data": {
      "text/plain": "11"
     },
     "metadata": {},
     "execution_count": 14
    }
   ],
   "source": [
    "array_in_2d[2,3]"
   ]
  },
  {
   "cell_type": "code",
   "execution_count": 15,
   "metadata": {},
   "outputs": [
    {
     "output_type": "execute_result",
     "data": {
      "text/plain": "array([ 1,  1, 73, 82, 29, 97,  3, 81,  5, 12])"
     },
     "metadata": {},
     "execution_count": 15
    }
   ],
   "source": [
    "array_in_2d[:,2]"
   ]
  },
  {
   "cell_type": "code",
   "execution_count": 16,
   "metadata": {},
   "outputs": [
    {
     "output_type": "execute_result",
     "data": {
      "text/plain": "(10, 5)"
     },
     "metadata": {},
     "execution_count": 16
    }
   ],
   "source": [
    "array_in_2d.shape"
   ]
  },
  {
   "cell_type": "code",
   "execution_count": 18,
   "metadata": {},
   "outputs": [
    {
     "output_type": "execute_result",
     "data": {
      "text/plain": "98"
     },
     "metadata": {},
     "execution_count": 18
    }
   ],
   "source": [
    "array_in_2d.max()"
   ]
  },
  {
   "cell_type": "code",
   "execution_count": 19,
   "metadata": {},
   "outputs": [
    {
     "output_type": "execute_result",
     "data": {
      "text/plain": "45.56"
     },
     "metadata": {},
     "execution_count": 19
    }
   ],
   "source": [
    "array_in_2d.mean()"
   ]
  },
  {
   "cell_type": "code",
   "execution_count": 23,
   "metadata": {},
   "outputs": [],
   "source": [
    "def calculate_array_in_2d(input_array, axis = None):\n",
    "    \"\"\"\n",
    "    This function \n",
    "    \"\"\"\n",
    "\n",
    "    # Local variable\n",
    "    result = None\n",
    "\n",
    "    # Help variable\n",
    "    nrows, ncols = input_array.shape\n",
    "\n",
    "    N = nrows * ncols\n",
    "\n",
    "    # Average over all the elements\n",
    "    if axis == None:\n",
    "        cumsum = 0\n",
    "\n",
    "        # Access each row from the array\n",
    "        for i in range(nrows):\n",
    "            # Access each value from the row\n",
    "            for j in range(ncols):\n",
    "                # Add cumulative sum\n",
    "                cumsum += input_array[i, j]\n",
    "        \n",
    "        # Calculate total average\n",
    "        result = cumsum / N\n",
    "\n",
    "        # Average vertically downwards across rows\n",
    "    elif axis == 0:\n",
    "            # Result is a list, in which we will append respective values\n",
    "            result = []\n",
    "\n",
    "            # Access each row from the array\n",
    "            for j in range(ncols):\n",
    "                average = input_array[:, j].sum() / nrows\n",
    "                result.append(average)\n",
    "            \n",
    "            # Append the value to the result\n",
    "            result = np.array(result)\n",
    "\n",
    "    elif axis == 1:\n",
    "# Result is a list, in which we will append respective values\n",
    "            result = []\n",
    "\n",
    "            # Access each row from the array\n",
    "            for i in range(nrows):\n",
    "                average = input_array[i, :].sum() / ncols\n",
    "                result.append(average)\n",
    "\n",
    "            \n",
    "            # Append the value to the result\n",
    "            result = np.array(result)\n",
    "        # Return object\n",
    "    return result"
   ]
  },
  {
   "cell_type": "code",
   "execution_count": 24,
   "metadata": {},
   "outputs": [
    {
     "output_type": "execute_result",
     "data": {
      "text/plain": "45.56"
     },
     "metadata": {},
     "execution_count": 24
    }
   ],
   "source": [
    "calculate_array_in_2d(array_in_2d)"
   ]
  },
  {
   "cell_type": "code",
   "execution_count": 25,
   "metadata": {},
   "outputs": [
    {
     "output_type": "execute_result",
     "data": {
      "text/plain": "array([53. , 53.6, 38.4, 41.3, 41.5])"
     },
     "metadata": {},
     "execution_count": 25
    }
   ],
   "source": [
    "calculate_array_in_2d(array_in_2d, axis=0)"
   ]
  },
  {
   "cell_type": "code",
   "execution_count": 26,
   "metadata": {},
   "outputs": [
    {
     "output_type": "execute_result",
     "data": {
      "text/plain": "array([41. , 27.4, 66.4, 43.6, 41.2, 73.4, 24.6, 41.8, 46.6, 49.6])"
     },
     "metadata": {},
     "execution_count": 26
    }
   ],
   "source": [
    "calculate_array_in_2d(array_in_2d, axis=1)"
   ]
  },
  {
   "cell_type": "code",
   "execution_count": null,
   "metadata": {},
   "outputs": [],
   "source": []
  }
 ]
}